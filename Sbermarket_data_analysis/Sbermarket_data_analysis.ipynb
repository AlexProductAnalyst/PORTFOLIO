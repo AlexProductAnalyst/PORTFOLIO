{
 "cells": [
  {
   "cell_type": "markdown",
   "source": [
    "Анализ данных Сбермаркет.\n",
    "\n",
    "Задачи для аналитика:\n",
    "\n",
    "Динамика по недельная общего CR (Contact Rate) по внешней сборке\n",
    "\n",
    "Динамика по недельная общего CR внутренней сборке (быстрая доставка)\n",
    "\n",
    "Выводы из по CR внешней сборки\n",
    "\n",
    "Сравнение CR по заявкам чата и голоса в понедельной динамике (внешняя сборка и быстрая доставка наша сборка)\n",
    "\n",
    "Сравнение CR по заявкам партнеров, ритейлеров и исходящим звонкам в понедельной динамике (внешняя сборка и быстрая доставка наша сборка)\n",
    "\n",
    "Топ тематик по внешней сборке по чату и голосу, исходящим звонкам и заявкам партнеров. \n",
    "\n",
    "Ключевой вывод\n",
    "\n",
    "Сравнение ключевых тематик внешней сборки с тематиками быстрой доставки на нашей сборке по \n",
    "CR\n",
    "CSI\n",
    "\n",
    "Ключевой вывод"
   ],
   "metadata": {
    "collapsed": false
   },
   "id": "bb2b256f1d392d82"
  },
  {
   "cell_type": "code",
   "outputs": [],
   "source": [
    "# Производим импорт необходимых библиотек\n",
    "\n",
    "import pandas as pd\n",
    "import seaborn as sns"
   ],
   "metadata": {
    "collapsed": false,
    "ExecuteTime": {
     "end_time": "2024-11-13T09:39:47.260370500Z",
     "start_time": "2024-11-13T09:39:47.083798700Z"
    }
   },
   "id": "838543b3437f46e9",
   "execution_count": 89
  },
  {
   "cell_type": "code",
   "outputs": [
    {
     "name": "stdout",
     "output_type": "stream",
     "text": [
      "dt                     object\n",
      "assembly_type          object\n",
      "type_store_delivery    object\n",
      "cnt_delivered           int64\n",
      "dtype: object\n",
      "dt                     object\n",
      "type_appeal            object\n",
      "direction              object\n",
      "theme                  object\n",
      "subtheme               object\n",
      "assembly_type          object\n",
      "type_store_delivery    object\n",
      "total_bid               int64\n",
      "numerator_csi           int64\n",
      "total_rates             int64\n",
      "dtype: object\n",
      "\n",
      " cnt_delivered_data\n",
      "\n",
      " dt: Принимает значения: ['12/18/2022' '12/17/2022' '12/16/2022' '12/15/2022' '12/14/2022']\n",
      "\n",
      " assembly_type: Принимает значения: ['внутренняя' 'внешняя']\n",
      "\n",
      " type_store_delivery: Принимает значения: ['planned' 'on_demand' 'marketplace']\n",
      "\n",
      " cnt_delivered: Принимает значения: [119611  18686  25583  38943  10008]\n",
      "\n",
      " request_agg\n",
      "\n",
      " dt: Принимает значения: ['12/5/2022' '12/18/2022' '12/7/2022' '12/6/2022' '12/9/2022']\n",
      "\n",
      " type_appeal: Принимает значения: ['Партнерский' 'Клиентский']\n",
      "\n",
      " direction: Принимает значения: ['Исход' 'Голос' 'Чаты' 'Заявки партнеров' 'Поддержка ритейлеров']\n",
      "\n",
      " theme: Принимает значения: ['Недовоз объема' 'СберСпасибо' 'Не тот товар' 'Качество продуктов'\n",
      " 'Без темы']\n",
      "\n",
      " subtheme: Принимает значения: ['Возврат промо' 'Условия применения/списания СберСпасибо'\n",
      " 'Согласование обмена' 'Испорченный продукт в упаковке' nan]\n",
      "\n",
      " assembly_type: Принимает значения: [nan 'внутренняя' 'внешняя']\n",
      "\n",
      " type_store_delivery: Принимает значения: [nan 'planned' 'on_demand' 'marketplace']\n",
      "\n",
      " total_bid: Принимает значения: [ 1 38 11  3  2]\n",
      "\n",
      " numerator_csi: Принимает значения: [ 0 14  1  3 -2]\n",
      "\n",
      " total_rates: Принимает значения: [ 0 15  1  3  2]\n"
     ]
    }
   ],
   "source": [
    "# Считываем данные\n",
    "\n",
    "cnt_delivered_data = pd.read_csv(\"C:/Users/User/PycharmProjects/Portfolio/Sbermarket_data_analysis/Data/cnt_delivered.csv\")\n",
    "request_agg = pd.read_csv(\"C:/Users/User/PycharmProjects/Portfolio/Sbermarket_data_analysis/Data/request_agg.csv\")\n",
    "\n",
    "# Производим ознакомление со структурой данных (Описание данных предоставлено в файле вместе с заданием по ссылке:https://drive.google.com/drive/folders/1x4xcB0S1m3bGwcQyNZj4i7vApJjMCch2)\n",
    "\n",
    "# Типы данных\n",
    "print(cnt_delivered_data.dtypes)\n",
    "print(request_agg.dtypes)\n",
    "\n",
    "print(\"\\n\",\"cnt_delivered_data\")\n",
    "\n",
    "# Значения принимаемые тем или иным типом для cnt_delivered_data\n",
    "for i in cnt_delivered_data.columns:\n",
    "    if cnt_delivered_data[i].nunique() <= 5:\n",
    "        print(f\"\\n {i}: Принимает значения: {cnt_delivered_data[i].unique()}\")\n",
    "    else:\n",
    "        print(f\"\\n {i}: Принимает значения: {cnt_delivered_data[i].unique()[:5]}\")\n",
    "        \n",
    "print(\"\\n\", \"request_agg\")\n",
    "        \n",
    "# Значения принимаемые тем или иным типом для request_agg\n",
    "for i in request_agg.columns:\n",
    "    if request_agg[i].nunique() <= 5:\n",
    "        print(f\"\\n {i}: Принимает значения: {request_agg[i].unique()}\")\n",
    "    else:\n",
    "        print(f\"\\n {i}: Принимает значения: {request_agg[i].unique()[:5]}\")"
   ],
   "metadata": {
    "collapsed": false,
    "ExecuteTime": {
     "end_time": "2024-11-13T09:39:47.343347400Z",
     "start_time": "2024-11-13T09:39:47.235834500Z"
    }
   },
   "id": "71e1f654c51cb33d",
   "execution_count": 90
  },
  {
   "cell_type": "markdown",
   "source": [
    "Столбец\tОписание\n",
    "\n",
    "dt\tДата заказа\n",
    "assembly_type\tТип сборки заказа. Внутренняя - силами партнеров или внешняя - силами ритейлера\n",
    "type_store_delivery\tПризнак магазина. On-demand - быстрая доставка, planned - плановая доставка \n",
    "cnt_delivered\tКоличество заказов\n",
    "dt\tДата обращения\n",
    "type_appeal\tCR делиться за клиентский - полученный на входящих звонках и входящих чатах и партнерский - это заявки от партнеров, ритейлеров и исходящие звонки\n",
    "direction\tТут как раз идет разделение на тип коммуникации. Голос - входящий звонок от клиента, чат - входящий чат от клиента, Заявки партнера - обращения от наших сотрудников по заказам, исход - звонки которые мы инициируем (относим к партнерскому CR), и поддрежка ритейлеров - заявки от ритейлера по заказам(аналогично поддержке портнеров)\n",
    "theme\tтема звонка/чата/заявки\n",
    "subtheme\tподтема звонка/чата/заявки\n",
    "assembly_type\tТип сборки заказа. Внутренняя - силами партнеров или внешняя - силами ритейлера, пусто значит что мы не смогли определить кто собирал заказ по которому обратились\n",
    "type_store_delivery\tПризнак магазина. On-demand - быстрая доставка, planned - плановая доставка \n",
    "total_bid\tкол-во обращений\n",
    "numerator_csi\tчислитель для csi \n",
    "total_rates\tвсего оценок(знаменатель для csi) "
   ],
   "metadata": {
    "collapsed": false
   },
   "id": "50785ce1824845a4"
  },
  {
   "cell_type": "code",
   "outputs": [
    {
     "name": "stdout",
     "output_type": "stream",
     "text": [
      "Пропущенные значения в cnt_delivered_data\n",
      "dt: 0\n",
      "assembly_type: 0\n",
      "type_store_delivery: 0\n",
      "cnt_delivered: 0\n",
      "Пропущенные значения в request_agg\n",
      "dt: 0\n",
      "type_appeal: 0\n",
      "direction: 0\n",
      "theme: 0\n",
      "subtheme: 2472\n",
      "assembly_type: 5741\n",
      "type_store_delivery: 5741\n",
      "total_bid: 0\n",
      "numerator_csi: 0\n",
      "total_rates: 0\n"
     ]
    }
   ],
   "source": [
    "# Проверяем количество пропущенных значений\n",
    "\n",
    "print(\"Пропущенные значения в cnt_delivered_data\")\n",
    "\n",
    "for i in cnt_delivered_data.columns:\n",
    "    print(f\"{i}: {cnt_delivered_data[i].isna().sum()}\")\n",
    "    \n",
    "print(\"Пропущенные значения в request_agg\")\n",
    "\n",
    "for i in request_agg.columns:\n",
    "    print(f\"{i}: {request_agg[i].isna().sum()}\")"
   ],
   "metadata": {
    "collapsed": false,
    "ExecuteTime": {
     "end_time": "2024-11-13T09:39:47.345350600Z",
     "start_time": "2024-11-13T09:39:47.333712300Z"
    }
   },
   "id": "e57399f046866ad7",
   "execution_count": 91
  },
  {
   "cell_type": "code",
   "outputs": [],
   "source": [
    "# Наличие отсутсвующих значений в 3ех категориях согласованно с описанием данных категорий\n",
    "# Необходимо преобразование типа для параметра dt"
   ],
   "metadata": {
    "collapsed": false,
    "ExecuteTime": {
     "end_time": "2024-11-13T09:39:47.354457900Z",
     "start_time": "2024-11-13T09:39:47.346961400Z"
    }
   },
   "id": "7820106dc5d2eaa1",
   "execution_count": 92
  },
  {
   "cell_type": "code",
   "outputs": [
    {
     "name": "stdout",
     "output_type": "stream",
     "text": [
      "            dt assembly_type type_store_delivery  cnt_delivered  \\\n",
      "15  12/15/2022    внутренняя           on_demand          41181   \n",
      "29  12/13/2022    внутренняя           on_demand          32969   \n",
      "46   12/9/2022       внешняя           on_demand          17885   \n",
      "34  12/12/2022    внутренняя           on_demand          33374   \n",
      "58   12/7/2022       внешняя           on_demand          18877   \n",
      "\n",
      "   transformed_date  week  \n",
      "15       2022-12-15    50  \n",
      "29       2022-12-13    50  \n",
      "46       2022-12-09    49  \n",
      "34       2022-12-12    50  \n",
      "58       2022-12-07    49  \n",
      "               dt  type_appeal direction                  theme  \\\n",
      "17824  12/14/2022   Клиентский     Голос               Промокод   \n",
      "19651  12/13/2022   Клиентский     Голос   Почему отменен заказ   \n",
      "5067    12/7/2022  Партнерский     Исход  Ошибка оплаты Сборщик   \n",
      "6696   12/12/2022   Клиентский     Голос      Звонок от курьера   \n",
      "1085   12/18/2022  Партнерский     Исход      Жалоба на курьера   \n",
      "\n",
      "                                  subtheme assembly_type type_store_delivery  \\\n",
      "17824            Не соответствует условиям       внешняя           on_demand   \n",
      "19651                                  NaN    внутренняя             planned   \n",
      "5067              Нет денег/Пополнил карту           NaN                 NaN   \n",
      "6696                     Звонок от курьера           NaN                 NaN   \n",
      "1085   Обратная связь по жалобе на курьера           NaN                 NaN   \n",
      "\n",
      "       total_bid  numerator_csi  total_rates transformed_date  week  \n",
      "17824          3             -1            2       2022-12-14    50  \n",
      "19651          4              1            1       2022-12-13    50  \n",
      "5067          40              0            0       2022-12-07    49  \n",
      "6696          28              3            3       2022-12-12    50  \n",
      "1085           7              1            1       2022-12-18    50  \n"
     ]
    }
   ],
   "source": [
    "# Производим преобразование dt при помощи метода astype\n",
    "cnt_delivered_data[\"transformed_date\"] = cnt_delivered_data[\"dt\"].astype(\"datetime64[ns]\")\n",
    "request_agg[\"transformed_date\"] = request_agg[\"dt\"].astype(\"datetime64[ns]\")\n",
    "\n",
    "cnt_delivered_data[\"week\"] = cnt_delivered_data['transformed_date'].dt.isocalendar().week\n",
    "request_agg[\"week\"] = request_agg['transformed_date'].dt.isocalendar().week\n",
    "\n",
    "print(cnt_delivered_data.sample(5))\n",
    "print(request_agg.sample(5))"
   ],
   "metadata": {
    "collapsed": false,
    "ExecuteTime": {
     "end_time": "2024-11-13T09:39:47.399209Z",
     "start_time": "2024-11-13T09:39:47.351464900Z"
    }
   },
   "id": "4e48ac58089777f5",
   "execution_count": 93
  },
  {
   "cell_type": "code",
   "outputs": [],
   "source": [],
   "metadata": {
    "collapsed": false,
    "ExecuteTime": {
     "end_time": "2024-11-13T09:39:47.413645200Z",
     "start_time": "2024-11-13T09:39:47.399209Z"
    }
   },
   "id": "6eebe9e7b7c8965c",
   "execution_count": 93
  }
 ],
 "metadata": {
  "kernelspec": {
   "display_name": "Python 3",
   "language": "python",
   "name": "python3"
  },
  "language_info": {
   "codemirror_mode": {
    "name": "ipython",
    "version": 2
   },
   "file_extension": ".py",
   "mimetype": "text/x-python",
   "name": "python",
   "nbconvert_exporter": "python",
   "pygments_lexer": "ipython2",
   "version": "2.7.6"
  }
 },
 "nbformat": 4,
 "nbformat_minor": 5
}
